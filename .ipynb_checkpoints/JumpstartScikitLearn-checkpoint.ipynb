{
 "cells": [
  {
   "cell_type": "markdown",
   "metadata": {},
   "source": [
    "Loading Example Datasets Below"
   ]
  },
  {
   "cell_type": "code",
   "execution_count": 4,
   "metadata": {},
   "outputs": [
    {
     "name": "stdout",
     "output_type": "stream",
     "text": [
      "(506, 13)\n",
      "(150, 4)\n",
      "(442, 10)\n",
      "(1797, 64)\n",
      "(20, 3)\n"
     ]
    }
   ],
   "source": [
    "#Loadanddisplaydetailsofthepackageddatasets\n",
    "from sklearn.datasets  import load_boston \n",
    "from sklearn.datasets  import load_iris \n",
    "from sklearn.datasets  import load_diabetes \n",
    "from sklearn . datasets  import load_digits \n",
    "from sklearn . datasets  import load_linnerud \n",
    "#Bostonhousepricesdataset(13x506,reals,regression)\n",
    "boston  = load_boston ()\n",
    "print ( boston . data . shape) \n",
    "#Irisflowerdataset(4x150,reals,multi-labelclassification)\n",
    "iris  = load_iris ()\n",
    "print ( iris . data . shape)\n",
    "#Diabetesdataset(10x442,reals,regression)\n",
    "diabetes  = load_diabetes ()\n",
    "print ( diabetes . data . shape) \n",
    "#Hand-writtendigitdataset(64x1797,multi-labelclassification)\n",
    "digits  = load_digits ()\n",
    "print ( digits . data . shape) \n",
    "#Linnerudpsychologicalandexercisedataset(3x20,3x20multivariateregression)\n",
    "linnerud  = load_linnerud ()\n",
    "print ( linnerud . data . shape)"
   ]
  },
  {
   "cell_type": "markdown",
   "metadata": {},
   "source": [
    "# Normalization\n",
    "Normalization refers to rescaling real valued numeric attributes into the range 0 and 1. It is useful to scale the input attributes for a model that relies on the magnitude of values, such as distance measures used in k­nearest neighbors and in the preparation of coefficients in regression."
   ]
  },
  {
   "cell_type": "code",
   "execution_count": 6,
   "metadata": {},
   "outputs": [
    {
     "name": "stdout",
     "output_type": "stream",
     "text": [
      "(150, 4)\n"
     ]
    }
   ],
   "source": [
    "#NormalizethedataattributesfortheIrisdataset.\n",
    "from sklearn.datasets  import load_iris \n",
    "from sklearn  import preprocessing \n",
    "#loadtheirisdataset\n",
    "iris  = load_iris ()\n",
    "print ( iris.data.shape) \n",
    "#separate the data from the target attributes \n",
    "X  = iris.data\n",
    "y  = iris.target \n",
    "#normalizethedataattributes \n",
    "normalized_X  = preprocessing.normalize ( X)"
   ]
  },
  {
   "cell_type": "markdown",
   "metadata": {},
   "source": [
    "# Standardization\n",
    "Standardization refers to shifting the distribution of each attribute to have a mean of 0 and a standard deviation of 1. It is useful to standardize attributes for a model that relies on the distribution of attributes such as Gaussian processes."
   ]
  },
  {
   "cell_type": "code",
   "execution_count": 8,
   "metadata": {},
   "outputs": [
    {
     "name": "stdout",
     "output_type": "stream",
     "text": [
      "(150, 4)\n"
     ]
    }
   ],
   "source": [
    "#Standardize the data attributes for the Iris data set.\n",
    "from sklearn . datasets  import load_iris \n",
    "from sklearn  import preprocessing \n",
    "#loadtheIrisdataset\n",
    "iris  = load_iris () \n",
    "print (iris.data.shape) \n",
    "\n",
    "#separate the data and target attributes \n",
    "X  = iris.data\n",
    "y  = iris.target \n",
    "\n",
    "#standardize the data attributes \n",
    "standardized_X  = preprocessing.scale ( X)"
   ]
  },
  {
   "cell_type": "code",
   "execution_count": null,
   "metadata": {
    "collapsed": true
   },
   "outputs": [],
   "source": []
  }
 ],
 "metadata": {
  "kernelspec": {
   "display_name": "Python 2",
   "language": "python",
   "name": "python2"
  },
  "language_info": {
   "codemirror_mode": {
    "name": "ipython",
    "version": 2
   },
   "file_extension": ".py",
   "mimetype": "text/x-python",
   "name": "python",
   "nbconvert_exporter": "python",
   "pygments_lexer": "ipython2",
   "version": "2.7.13"
  }
 },
 "nbformat": 4,
 "nbformat_minor": 2
}
