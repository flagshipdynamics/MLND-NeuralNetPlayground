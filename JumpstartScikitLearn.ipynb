{
 "cells": [
  {
   "cell_type": "code",
   "execution_count": 2,
   "metadata": {},
   "outputs": [
    {
     "name": "stdout",
     "output_type": "stream",
     "text": [
      "(506, 13)\n",
      "(150, 4)\n",
      "(442, 10)\n",
      "(1797, 64)\n",
      "(20, 3)\n"
     ]
    }
   ],
   "source": [
    "#Loadanddisplaydetailsofthepackageddatasets\n",
    "from sklearn.datasets  import load_boston \n",
    "from sklearn.datasets  import load_iris \n",
    "from sklearn.datasets  import load_diabetes \n",
    "from sklearn . datasets  import load_digits \n",
    "from sklearn . datasets  import load_linnerud \n",
    "#Bostonhousepricesdataset(13x506,reals,regression)\n",
    "boston  = load_boston ()\n",
    "print ( boston . data . shape) \n",
    "#Irisflowerdataset(4x150,reals,multi-labelclassification)\n",
    "iris  = load_iris ()\n",
    "print ( iris . data . shape)\n",
    "#Diabetesdataset(10x442,reals,regression)\n",
    "diabetes  = load_diabetes ()\n",
    "print ( diabetes . data . shape) \n",
    "#Hand-writtendigitdataset(64x1797,multi-labelclassification)\n",
    "digits  = load_digits ()\n",
    "print ( digits . data . shape) \n",
    "#Linnerudpsychologicalandexercisedataset(3x20,3x20multivariateregression)\n",
    "linnerud  = load_linnerud ()\n",
    "print ( linnerud . data . shape)"
   ]
  },
  {
   "cell_type": "code",
   "execution_count": null,
   "metadata": {
    "collapsed": true
   },
   "outputs": [],
   "source": []
  }
 ],
 "metadata": {
  "kernelspec": {
   "display_name": "Python 2",
   "language": "python",
   "name": "python2"
  },
  "language_info": {
   "codemirror_mode": {
    "name": "ipython",
    "version": 2
   },
   "file_extension": ".py",
   "mimetype": "text/x-python",
   "name": "python",
   "nbconvert_exporter": "python",
   "pygments_lexer": "ipython2",
   "version": "2.7.13"
  }
 },
 "nbformat": 4,
 "nbformat_minor": 2
}
